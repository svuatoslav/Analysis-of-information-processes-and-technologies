{
  "cells": [
    {
      "cell_type": "code",
      "source": [
        "%pip install flake8 pycodestyle_magic\n",
        "%load_ext pycodestyle_magic\n",
        "%pycodestyle_on"
      ],
      "metadata": {
        "id": "SuhTUmF0vXER"
      },
      "execution_count": null,
      "outputs": []
    },
    {
      "cell_type": "code",
      "execution_count": null,
      "metadata": {
        "id": "90_pP4JQeCZ0"
      },
      "outputs": [],
      "source": [
        "from select import select\n",
        "import random\n",
        "import matplotlib.pyplot as plt"
      ]
    },
    {
      "cell_type": "code",
      "source": [
        "class Point():\n",
        "    'Точка'\n",
        "    def __init__(self, x, y, number_class, color):\n",
        "        self.x = x\n",
        "        self.y = y\n",
        "        self.number_class = number_class\n",
        "        if number_class == 0:\n",
        "            self.color = 'blue'\n",
        "        elif number_class == 1:\n",
        "            self.color = 'green'\n",
        "        else:\n",
        "            self.color = 'red'\n",
        "\n",
        "    def get_colors(self):\n",
        "        return self.color\n",
        "\n",
        "    def get_info_class(self):\n",
        "        return self.number_class\n",
        "\n",
        "    def set_class(self, number_class):\n",
        "        self.number_class = number_class\n",
        "        if number_class == 0:\n",
        "            self.color = 'blue'\n",
        "        elif number_class == 1:\n",
        "            self.color = 'green'\n",
        "        else:\n",
        "            self.color = 'red'\n",
        "\n",
        "\n",
        "class KNN():\n",
        "    'Алгоритм'\n",
        "\n",
        "    def distance(points, classless):\n",
        "        module_list = []\n",
        "\n",
        "        for point in points:\n",
        "            dist = ((point.x - classless.x)**2 +\n",
        "                    (point.y - classless.y)**2)**0.5\n",
        "            module_list.append(dist)\n",
        "\n",
        "        return module_list\n",
        "\n",
        "    def search_k_nearest(points, module_list, k):\n",
        "        class_lenth_dict = {}\n",
        "        for point in points:\n",
        "            class_lenth_dict[module_list\n",
        "                             [points.index(point)]] = point.number_class\n",
        "        module_list = sorted(module_list)\n",
        "        k_nearest = module_list[:k]\n",
        "        print('nearest', k_nearest)\n",
        "        return k_nearest, class_lenth_dict\n",
        "\n",
        "    def voting(k_nearest, class_lenth_dict):\n",
        "        c = []\n",
        "        answers = []\n",
        "        for neighbor in k_nearest:\n",
        "            answers.append(class_lenth_dict[neighbor])\n",
        "        for x in [0, 1]:\n",
        "            c.append(answers.count(x))\n",
        "            print('sum classes', c)\n",
        "        return c\n",
        "\n",
        "    def classificator(c, k_nearest, class_lenth_dict, point):\n",
        "        if c[0] != c[1]:\n",
        "            print('Point`s class is:', c.index(max(c)))\n",
        "            return point.set_class(c.index(max(c)))\n",
        "        else:\n",
        "            return KNN.classificator(\n",
        "                KNN.voting(k_nearest[:-1], class_lenth_dict),\n",
        "                k_nearest, class_lenth_dict, point)\n",
        "\n",
        "    def draw(X, point):\n",
        "        class1 = [[], []]\n",
        "        class2 = [[], []]\n",
        "        for point in X:\n",
        "            if point.number_class == 0:\n",
        "                class1[0].append(point.x)\n",
        "                class1[1].append(point.y)\n",
        "            else:\n",
        "                class2[0].append(point.x)\n",
        "                class2[1].append(point.y)\n",
        "        plt.scatter(class1[0], class1[1],\n",
        "                    color='blue', marker='x', label='0')\n",
        "        plt.scatter(class2[0], class2[1],\n",
        "                    color='green', marker='*', label='1')\n",
        "        plt.scatter(point.x, point.y, color='red')\n",
        "        plt.xlim(0, 22)\n",
        "        plt.ylim(0, 22)\n",
        "        plt.legend(loc='upper right')\n",
        "        plt.grid()"
      ],
      "metadata": {
        "id": "BdXUmtizs4pV"
      },
      "execution_count": null,
      "outputs": []
    },
    {
      "cell_type": "code",
      "execution_count": null,
      "metadata": {
        "colab": {
          "base_uri": "https://localhost:8080/",
          "height": 265
        },
        "id": "v_PjMOOIeE7K",
        "outputId": "302e6c4c-ed65-4efb-f295-4ddd9fa7529c"
      },
      "outputs": [
        {
          "output_type": "display_data",
          "data": {
            "text/plain": [
              "<Figure size 432x288 with 1 Axes>"
            ],
            "image/png": "[encoded data removed]"
          },
          "metadata": {
            "needs_background": "light"
          }
        }
      ],
      "source": [
        "Points = []\n",
        "lenght = 10\n",
        "while not (lenght <= 0):\n",
        "    lenght -= 1\n",
        "    x = random.randint(1, 20)\n",
        "    y = random.randint(1, 20)\n",
        "    Points.append(Point(x, y, random.randint(0, 1), 'white'))\n",
        "\n",
        "for p in Points:\n",
        "    print(p.x, p.y, p.get_info_class(), p.color)\n",
        "classless = Point(10, 10, -1, 'red')\n",
        "KNN.draw(Points, classless)"
      ]
    },
    {
      "cell_type": "code",
      "execution_count": null,
      "metadata": {
        "id": "QXYUEt2QeG9c"
      },
      "outputs": [],
      "source": [
        "k = 6\n",
        "dist = KNN.distance(Points, classless)\n",
        "nearest, class_dict = KNN.search_k_nearest(Points, dist, k)\n",
        "vote = KNN.voting(nearest, class_dict)\n",
        "KNN.classificator(vote, nearest, class_dict, classless)\n",
        "print(classless.number_class)"
      ]
    },
    {
      "cell_type": "code",
      "source": [],
      "metadata": {
        "id": "ra7uDObZCRzb"
      },
      "execution_count": null,
      "outputs": []
    }
  ],
  "metadata": {
    "colab": {
      "provenance": [],
      "collapsed_sections": []
    },
    "kernelspec": {
      "display_name": "Python 3",
      "name": "python3"
    },
    "language_info": {
      "name": "python"
    }
  },
  "nbformat": 4,
  "nbformat_minor": 0
}