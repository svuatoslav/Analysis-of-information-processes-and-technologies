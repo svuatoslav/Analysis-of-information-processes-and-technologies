{
 "cells": [
  {
   "cell_type": "code",
   "execution_count": 101,
   "metadata": {},
   "outputs": [],
   "source": [
    "class prime_numbers:\n",
    "\n",
    "    def __init__(self, quantity, value = 0, last = 1):\n",
    "        self.quantity = quantity\n",
    "        self.value = value\n",
    "        self.last = last\n",
    "\n",
    "    def __iter__ (self):\n",
    "        return self\n",
    "\n",
    "    def __next__(self):\n",
    "        self.value += 1\n",
    "        if self.value > self.quantity:\n",
    "            raise StopIteration\n",
    "        while True:\n",
    "            simple = True\n",
    "            self.last += 1\n",
    "            i = 2\n",
    "            while i <= self.last ** 0.5:\n",
    "                if self.last % i == 0:\n",
    "                    simple = False\n",
    "                    break\n",
    "                i += 1\n",
    "            if simple == True:\n",
    "                return self.last"
   ]
  },
  {
   "cell_type": "code",
   "execution_count": 102,
   "metadata": {},
   "outputs": [
    {
     "name": "stdout",
     "output_type": "stream",
     "text": [
      "2\n",
      "3\n",
      "5\n",
      "7\n",
      "11\n",
      "13\n"
     ]
    }
   ],
   "source": [
    "for p in prime_numbers(6):\n",
    "    print(p)"
   ]
  }
 ],
 "metadata": {
  "kernelspec": {
   "display_name": "Python 3.7.4 ('base')",
   "language": "python",
   "name": "python3"
  },
  "language_info": {
   "codemirror_mode": {
    "name": "ipython",
    "version": 3
   },
   "file_extension": ".py",
   "mimetype": "text/x-python",
   "name": "python",
   "nbconvert_exporter": "python",
   "pygments_lexer": "ipython3",
   "version": "3.7.4"
  },
  "orig_nbformat": 4,
  "vscode": {
   "interpreter": {
    "hash": "e42634819b8c191a5d07eaf23810ff32516dd8d3875f28ec3e488928fbd3c187"
   }
  }
 },
 "nbformat": 4,
 "nbformat_minor": 2
}
