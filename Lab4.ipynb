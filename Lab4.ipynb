{
 "cells": [
  {
   "cell_type": "code",
   "execution_count": 9,
   "metadata": {},
   "outputs": [],
   "source": [
    "second = open('second.txt', 'w')"
   ]
  },
  {
   "cell_type": "code",
   "execution_count": 10,
   "metadata": {},
   "outputs": [],
   "source": [
    "class  MyError(Exception):\n",
    "    pass"
   ]
  },
  {
   "cell_type": "code",
   "execution_count": 11,
   "metadata": {},
   "outputs": [],
   "source": [
    "data = []\n",
    "i = 0\n",
    "j = 0\n",
    "try:\n",
    "    with open(\"first.txt\") as f:\n",
    "        for line in f:\n",
    "            # data.append([float(x) for x in line.split(): print(x)])\n",
    "            data.append([])\n",
    "            for x in line.split():\n",
    "                data[i].append(int(x))\n",
    "                j += 1\n",
    "            i += 1\n",
    "            j = 0\n",
    "    for x in range(1, len(data)):\n",
    "        if len(data[x]) != len(data[x - 1]):\n",
    "            raise MyError\n",
    "    for i in range(len(data)):\n",
    "        for j in range(len(data[i])):\n",
    "            second.write(str(data[i][j]*2))\n",
    "            second.write(' ')\n",
    "        if i != len(data) - 1:\n",
    "            second.write('\\n')\n",
    "except ValueError:\n",
    "        print(\"обнаружено не число в строке \", i + 1, \" столбце \", j + 1, \"нечисловое значение: \", x)\n",
    "        data.pop(-1)\n",
    "except MyError:\n",
    "    print(\"матрица не прямоугольная\")\n"
   ]
  },
  {
   "cell_type": "code",
   "execution_count": 12,
   "metadata": {},
   "outputs": [],
   "source": [
    "second.close()"
   ]
  }
 ],
 "metadata": {
  "kernelspec": {
   "display_name": "Python 3",
   "language": "python",
   "name": "python3"
  },
  "language_info": {
   "codemirror_mode": {
    "name": "ipython",
    "version": 3
   },
   "file_extension": ".py",
   "mimetype": "text/x-python",
   "name": "python",
   "nbconvert_exporter": "python",
   "pygments_lexer": "ipython3",
   "version": "3.10.9"
  },
  "orig_nbformat": 4,
  "vscode": {
   "interpreter": {
    "hash": "92f6f10b1285499ac3e7af1fb557d4fd19ac9843c5b2b9f7066d004b56db9f68"
   }
  }
 },
 "nbformat": 4,
 "nbformat_minor": 2
}
