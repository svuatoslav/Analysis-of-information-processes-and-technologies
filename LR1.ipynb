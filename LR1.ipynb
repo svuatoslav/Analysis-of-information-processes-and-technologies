{
  "nbformat": 4,
  "nbformat_minor": 0,
  "metadata": {
    "colab": {
      "provenance": [],
      "collapsed_sections": []
    },
    "kernelspec": {
      "name": "python3",
      "display_name": "Python 3"
    },
    "language_info": {
      "name": "python"
    }
  },
  "cells": [
    {
      "cell_type": "markdown",
      "source": [
        "### Лабораторная работа №1 по курсу: \"Анализ информационных процессов и технологий\"\n",
        "\n",
        "Состав команды:\n",
        "\n",
        "\n",
        "*   Москаленко Святослав\n",
        "*   Нитаева Валентина\n",
        "*   Савина Валерия\n"
      ],
      "metadata": {
        "id": "zA0M0ZGcZC_s"
      }
    },
    {
      "cell_type": "code",
      "source": [
        "%pip install flake8 pycodestyle_magic\n"
      ],
      "metadata": {
        "colab": {
          "base_uri": "https://localhost:8080/"
        },
        "id": "57PPTgjn4wC2",
        "outputId": "573e05a8-6d25-40bc-be57-641321c347fe"
      },
      "execution_count": null,
      "outputs": [
        {
          "output_type": "stream",
          "name": "stdout",
          "text": [
            "Looking in indexes: https://pypi.org/simple, https://us-python.pkg.dev/colab-wheels/public/simple/\n",
            "Collecting flake8\n",
            "  Downloading flake8-5.0.4-py2.py3-none-any.whl (61 kB)\n",
            "\u001b[K     |████████████████████████████████| 61 kB 439 kB/s \n",
            "\u001b[?25hCollecting pycodestyle_magic\n",
            "  Downloading pycodestyle_magic-0.5-py2.py3-none-any.whl (9.5 kB)\n",
            "Collecting pyflakes<2.6.0,>=2.5.0\n",
            "  Downloading pyflakes-2.5.0-py2.py3-none-any.whl (66 kB)\n",
            "\u001b[K     |████████████████████████████████| 66 kB 4.4 MB/s \n",
            "\u001b[?25hCollecting pycodestyle<2.10.0,>=2.9.0\n",
            "  Downloading pycodestyle-2.9.1-py2.py3-none-any.whl (41 kB)\n",
            "\u001b[K     |████████████████████████████████| 41 kB 369 kB/s \n",
            "\u001b[?25hCollecting mccabe<0.8.0,>=0.7.0\n",
            "  Downloading mccabe-0.7.0-py2.py3-none-any.whl (7.3 kB)\n",
            "Collecting importlib-metadata<4.3,>=1.1.0\n",
            "  Downloading importlib_metadata-4.2.0-py3-none-any.whl (16 kB)\n",
            "Requirement already satisfied: typing-extensions>=3.6.4 in /usr/local/lib/python3.7/dist-packages (from importlib-metadata<4.3,>=1.1.0->flake8) (4.1.1)\n",
            "Requirement already satisfied: zipp>=0.5 in /usr/local/lib/python3.7/dist-packages (from importlib-metadata<4.3,>=1.1.0->flake8) (3.9.0)\n",
            "Installing collected packages: pyflakes, pycodestyle, mccabe, importlib-metadata, pycodestyle-magic, flake8\n",
            "  Attempting uninstall: importlib-metadata\n",
            "    Found existing installation: importlib-metadata 4.13.0\n",
            "    Uninstalling importlib-metadata-4.13.0:\n",
            "      Successfully uninstalled importlib-metadata-4.13.0\n",
            "\u001b[31mERROR: pip's dependency resolver does not currently take into account all the packages that are installed. This behaviour is the source of the following dependency conflicts.\n",
            "markdown 3.4.1 requires importlib-metadata>=4.4; python_version < \"3.10\", but you have importlib-metadata 4.2.0 which is incompatible.\n",
            "gym 0.25.2 requires importlib-metadata>=4.8.0; python_version < \"3.10\", but you have importlib-metadata 4.2.0 which is incompatible.\u001b[0m\n",
            "Successfully installed flake8-5.0.4 importlib-metadata-4.2.0 mccabe-0.7.0 pycodestyle-2.9.1 pycodestyle-magic-0.5 pyflakes-2.5.0\n"
          ]
        }
      ]
    },
    {
      "cell_type": "code",
      "source": [
        "%load_ext pycodestyle_magic"
      ],
      "metadata": {
        "id": "1XRrlRC46Fdq"
      },
      "execution_count": null,
      "outputs": []
    },
    {
      "cell_type": "code",
      "source": [
        "%pycodestyle_on"
      ],
      "metadata": {
        "id": "R46zN0fx6XdE"
      },
      "execution_count": null,
      "outputs": []
    },
    {
      "cell_type": "markdown",
      "source": [
        "1. Найти наибольший общий делитель (НОД) двух чисел."
      ],
      "metadata": {
        "id": "pGXz7AIEYLDW"
      }
    },
    {
      "cell_type": "code",
      "source": [
        "a, b = int(input()), int(input())\n",
        "\n",
        "\n",
        "def nod(a, b):\n",
        "    if a >= b:\n",
        "        a, a = b, a % b\n",
        "        return a\n",
        "    if b > a:\n",
        "        b, b = a, b % a\n",
        "        return b\n",
        "\n",
        "\n",
        "print(nod(a, b))"
      ],
      "metadata": {
        "id": "z_k9-lHGYmfw",
        "colab": {
          "base_uri": "https://localhost:8080/"
        },
        "outputId": "d96501e3-214e-4960-bbd5-6d872cbf6744"
      },
      "execution_count": null,
      "outputs": [
        {
          "output_type": "stream",
          "name": "stdout",
          "text": [
            "60\n",
            "45\n",
            "15\n"
          ]
        }
      ]
    },
    {
      "cell_type": "markdown",
      "source": [
        "2. Написать алгоритм, переводящий целое число из десятичной системы исчисления в двоичную. Результат выводить в виде строки. "
      ],
      "metadata": {
        "id": "mLzDZg1OYsL1"
      }
    },
    {
      "cell_type": "code",
      "source": [
        "n_ten = int(input())\n",
        "n_two = \"\"\n",
        "while n_ten > 0:\n",
        "    n_two = str(n_ten % 2) + n_two\n",
        "    n_ten = n_ten // 2\n",
        "print(n_two)"
      ],
      "metadata": {
        "id": "QCKpaeeXZAMs",
        "colab": {
          "base_uri": "https://localhost:8080/"
        },
        "outputId": "661418bd-963a-42eb-8a80-db8956cafc01"
      },
      "execution_count": null,
      "outputs": [
        {
          "output_type": "stream",
          "name": "stdout",
          "text": [
            "578\n",
            "1001000010\n"
          ]
        }
      ]
    },
    {
      "cell_type": "markdown",
      "source": [
        "3. Дано целое число N. Выяснить, является ли оно простым или составным."
      ],
      "metadata": {
        "id": "0frnvfwVZE6d"
      }
    },
    {
      "cell_type": "code",
      "source": [
        "from math import sqrt\n",
        "\n",
        "N = int(input())\n",
        "counter = 0\n",
        "for i in range(2, int(sqrt(N)) + 1):\n",
        "    if N % i == 0:\n",
        "        counter += 1\n",
        "if counter == 0:\n",
        "    print(\"prostoe\")\n",
        "else:\n",
        "    print(\"sostavnoe\")"
      ],
      "metadata": {
        "id": "su-aGwmrZOIa",
        "colab": {
          "base_uri": "https://localhost:8080/"
        },
        "outputId": "2f8d1613-ede4-47d9-e194-b3a925459185"
      },
      "execution_count": null,
      "outputs": [
        {
          "output_type": "stream",
          "name": "stdout",
          "text": [
            "2135\n",
            "sostavnoe\n"
          ]
        }
      ]
    },
    {
      "cell_type": "markdown",
      "source": [
        "4.Найти сумму цифр числа и повторять эту\n",
        "процедуру, пока не останется одна цифра.\n",
        "Пример: 768 -> 7+6+8 -> 21 -> 2+1 -> 3."
      ],
      "metadata": {
        "id": "iCkuqdrbxxTg"
      }
    },
    {
      "cell_type": "code",
      "source": [
        "x = input()\n",
        "\n",
        "\n",
        "def sum_of_num(x):\n",
        "    answ = x\n",
        "    while len(answ) != 1:\n",
        "        x_list = []\n",
        "        for i in range(len(x)):\n",
        "            x_list.append(int(x[i]))\n",
        "        print(x_list)\n",
        "        answ = 0\n",
        "        for j in range(len(x_list)):\n",
        "            answ += x_list[j]\n",
        "        answ = str(answ)\n",
        "        print(answ)\n",
        "        answ = sum_of_num(answ)\n",
        "    return (answ)\n",
        "\n",
        "\n",
        "print(sum_of_num(x))"
      ],
      "metadata": {
        "id": "wDJbkhPjx1H3",
        "colab": {
          "base_uri": "https://localhost:8080/"
        },
        "outputId": "21947c2a-feb1-4cbd-8212-a2e7e473f500"
      },
      "execution_count": null,
      "outputs": [
        {
          "output_type": "stream",
          "name": "stdout",
          "text": [
            "54\n",
            "[5, 4]\n",
            "9\n",
            "9\n"
          ]
        }
      ]
    },
    {
      "cell_type": "markdown",
      "source": [
        "5.Даны координаты четырех вершин\n",
        "четырехугольника. Найти координаты точки\n",
        "пересечения его диагоналей.\n",
        "\n",
        "•  Можно предположить, что вершины\n",
        "перечислены в порядке их обхода.\n",
        "\n",
        "•  Предварительно нужно убедиться, что все\n",
        "вершины не лежат на одной прямой.\n",
        "\n",
        "x1=[3,5], x2=[4,-2], x3=[0,-4], x4=[-2,3]"
      ],
      "metadata": {
        "id": "OYiKt8HtYkW8"
      }
    },
    {
      "cell_type": "code",
      "source": [
        "points_list = [[3, 5], [4, -2], [0, -4], [-2, 3]]\n",
        "\n",
        "a1 = (points_list[1][1] - points_list[2][1]) / \\\n",
        "      (points_list[1][0] - points_list[2][0])\n",
        "b1 = points_list[2][1] - a1 * points_list[2][0]\n",
        "\n",
        "s1 = points_list[1][1] != a1 * points_list[1][0] + b1\n",
        "s2 = points_list[3][1] != a1 * points_list[3][0] + b1\n",
        "if (s1) or (s2):\n",
        "    a2 = (points_list[3][1] - points_list[1][1]) / \\\n",
        "          (points_list[3][0] - points_list[1][0])\n",
        "    b2 = points_list[3][1] - a2 * points_list[3][0]\n",
        "    x = (b2 - b1) / (a1 - a2)\n",
        "    y = a1 * x + b1\n",
        "print([x, y])"
      ],
      "metadata": {
        "colab": {
          "base_uri": "https://localhost:8080/"
        },
        "id": "GYpqRvzWyDsB",
        "outputId": "8f3dfff3-eab6-4062-bc55-e387ac30d269"
      },
      "execution_count": null,
      "outputs": [
        {
          "output_type": "stream",
          "name": "stdout",
          "text": [
            "[3.9999999999999996, -2.0]\n"
          ]
        }
      ]
    },
    {
      "cell_type": "markdown",
      "source": [
        "**6)**\n",
        "Высота перегородок задана массивом heights.\n",
        "Расстояние между ними 1"
      ],
      "metadata": {
        "id": "y-lnpJ9l1OJ7"
      }
    },
    {
      "cell_type": "code",
      "source": [
        "heights = [6, 8, 4, 10, 9, 5, 8]\n",
        "V = 0\n",
        "while not len(heights) <= 1:\n",
        "    i = 0  # = heights.index(height)\n",
        "    for height in heights:\n",
        "        if heights[0] <= height and 0 != i:\n",
        "            V += i * min(heights[0], height)\n",
        "            del heights[:i]\n",
        "            break\n",
        "        elif i == (len(heights)-1):\n",
        "            heights.reverse()\n",
        "        i += 1\n",
        "print(V)"
      ],
      "metadata": {
        "id": "xh9N1pS0yHPT",
        "colab": {
          "base_uri": "https://localhost:8080/"
        },
        "outputId": "9ba8051e-e63c-4839-b1e5-9e4964e5da2a"
      },
      "execution_count": null,
      "outputs": [
        {
          "output_type": "stream",
          "name": "stdout",
          "text": [
            "47\n"
          ]
        }
      ]
    }
  ]
}